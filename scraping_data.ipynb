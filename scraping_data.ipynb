{
 "cells": [
  {
   "cell_type": "code",
   "execution_count": 1,
   "metadata": {
    "ExecuteTime": {
     "end_time": "2023-05-29T18:05:22.623243Z",
     "start_time": "2023-05-29T18:05:22.506846Z"
    }
   },
   "outputs": [],
   "source": [
    "import pandas as pd\n",
    "import requests\n",
    "import urllib # dataya erişim\n",
    "import json # data formatının dönüşümü\n",
    "import os\n",
    "import glob\n",
    "\n"
   ]
  },
  {
   "cell_type": "code",
   "execution_count": 7,
   "metadata": {},
   "outputs": [],
   "source": [
    "\n",
    "url = \"https://api.ibb.gov.tr/havakalitesi/OpenDataPortalHandler/GetAQIStations\"\n",
    "def ibbVeriToDataframe(urladresi):\n",
    "    # API bağlantısı\n",
    "    sorgu = urllib.request.urlopen(urladresi)\n",
    "    # Veriyi python-json dosya biçimine dönüştürme\n",
    "    data = json.loads(sorgu.read().decode())\n",
    "    # Sadece datanın olduğu bölümün alınması\n",
    "    #data = data.get(\"value\")\n",
    "    # Verinin dataframe formatına dönüştürülmesi\n",
    "    return pd.DataFrame(data)\n"
   ]
  },
  {
   "cell_type": "code",
   "execution_count": 8,
   "metadata": {},
   "outputs": [],
   "source": [
    "df = ibbVeriToDataframe(url)\n",
    "df.columns\n",
    "\n",
    "Id_semt = df.set_index('Id')['Name'].to_dict()"
   ]
  },
  {
   "cell_type": "code",
   "execution_count": 9,
   "metadata": {},
   "outputs": [],
   "source": [
    "for file_name in Id_semt.values():\n",
    "    with open(f\"{file_name}.csv\", 'w') as f:\n",
    "        pass  # Boş dosya oluşturur\n"
   ]
  },
  {
   "cell_type": "code",
   "execution_count": 10,
   "metadata": {},
   "outputs": [],
   "source": [
    "base_url = \"https://api.ibb.gov.tr/havakalitesi/OpenDataPortalHandler/GetAQIByStationId?StationId={}&StartDate={}%2000:00:00&EndDate={}%2000:00:00\"\n",
    "start_date = pd.to_datetime(\"2010-01-01\")\n",
    "end_date = pd.to_datetime(\"2023-01-01\")\n",
    "date_range = pd.date_range(start=start_date, end=end_date, freq='MS')"
   ]
  },
  {
   "attachments": {},
   "cell_type": "markdown",
   "metadata": {},
   "source": [
    "Burada veri çekerken bir takım sorunlar yaşadım, özellikle çok fazla istek yolladığımda karşılaştığım problemi gözlemleyebilmek için ve tekrar başlamamak için her bir ay için ayrı dosya çekmeyi uygun gördüm. "
   ]
  },
  {
   "cell_type": "code",
   "execution_count": 14,
   "metadata": {},
   "outputs": [],
   "source": [
    "for id, name in Id_semt.items():\n",
    "    for i in range(len(date_range) - 1):\n",
    "        start = date_range[i].strftime(\"%d.%m.%Y\")\n",
    "        end = date_range[i + 1].strftime(\"%d.%m.%Y\")\n",
    "        url = base_url.format(id, start, end)\n",
    "        response = requests.get(url)\n",
    "        # Yapılacak işlemler\n",
    "        #df = ibbVeriToDataframe(url)\n",
    "\n",
    "        # Her iterasyonda bir sonraki adımda kaydedilecek CSV dosyasının adı oluşturulur\n",
    "        file_name = f\"{name}{start}.csv\"\n",
    "        # Fonksiyon çalıştırılır ve df değişkenine atanır\n",
    "        df = ibbVeriToDataframe(url)\n",
    "        # CSV dosyası oluşturulur ve kaydedilir\n",
    "        df.to_csv(f\"dataset/{name}/{file_name}\", index=False)\n",
    "        #bir check kontrol yapılmalı..\n"
   ]
  },
  {
   "attachments": {},
   "cell_type": "markdown",
   "metadata": {},
   "source": [
    "nihai sonuçta bu csv dosyalarını birleştirmek için de bir kod blogu yazdım."
   ]
  },
  {
   "cell_type": "code",
   "execution_count": null,
   "metadata": {},
   "outputs": [],
   "source": [
    "path='/Users/*****/Desktop/Github/tubitak/dataset/'\n",
    "# tüm klasörleri döngüye sok\n",
    "for foldername in os.listdir(path):\n",
    "    # her bir klasör için boş bir DataFrame oluştur\n",
    "    combined_csv = pd.DataFrame()\n",
    "    # klasördeki tüm CSV dosyalarını al\n",
    "    csv_files = glob.glob(path + foldername + '/*.csv')\n",
    "    # tarihe göre sırala\n",
    "    csv_files.sort(key=os.path.getmtime)\n",
    "    # her bir CSV dosyasını oku ve birleştir\n",
    "    for csv_file in csv_files:\n",
    "        df = pd.read_csv(csv_file)\n",
    "        combined_csv = pd.concat([combined_csv, df])\n",
    "    # birleştirilmiş CSV dosyasını kaydet\n",
    "    combined_csv.to_csv(path + foldername + '.csv', index=False)\n"
   ]
  }
 ],
 "metadata": {
  "kernelspec": {
   "display_name": "Python 3",
   "language": "python",
   "name": "python3"
  },
  "language_info": {
   "codemirror_mode": {
    "name": "ipython",
    "version": 3
   },
   "file_extension": ".py",
   "mimetype": "text/x-python",
   "name": "python",
   "nbconvert_exporter": "python",
   "pygments_lexer": "ipython3",
   "version": "3.10.6"
  },
  "orig_nbformat": 4
 },
 "nbformat": 4,
 "nbformat_minor": 2
}
