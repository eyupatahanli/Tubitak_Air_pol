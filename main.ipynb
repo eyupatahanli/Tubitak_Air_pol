{
 "cells": [
  {
   "attachments": {},
   "cell_type": "markdown",
   "metadata": {},
   "source": [
    "# Hava Kirliliği Üzerine Bilimsel bir Çalışma"
   ]
  },
  {
   "attachments": {},
   "cell_type": "markdown",
   "metadata": {},
   "source": [
    "## Problem tanımı "
   ]
  },
  {
   "attachments": {},
   "cell_type": "markdown",
   "metadata": {},
   "source": [
    "Günümüzde, hava kirliliği, insan sağlığı ve çevre üzerindeki olumsuz etkileri nedeniyle dünya genelinde ciddi bir sorun haline gelmiştir. Hava kirliliği, insanlar tarafından salınan çeşitli kirleticiler ve doğal kaynaklardan kaynaklanan kirleticilerin atmosfere salınması sonucu oluşur. Kirleticiler, atmosferdeki hava kalitesini etkileyerek, insan sağlığına zarar verebilir, bitki örtüsüne zarar vererek, su kaynaklarının kirlenmesine ve ekosistemlere zarar verebilir.\n",
    "\n",
    "Dünya Sağlık Örgütü (WHO), hava kirliliğinin her yıl dünya genelinde yaklaşık 7 milyon insanın ölümüne neden olduğunu tahmin ediyor. Ayrıca, hava kirliliği, çocuklar, yaşlılar ve kronik solunum yolu hastalıkları olanlar gibi savunmasız gruplar için özellikle tehlikelidir. Kirleticiler arasında en yaygın olanları, trafik, endüstriyel aktiviteler, enerji üretimi ve evlerde kullanılan yakıtlardan kaynaklanmaktadır.\n",
    "\n",
    "Hava kirliliği ile mücadele, insan sağlığı ve çevre için kritik öneme sahiptir. Bu nedenle, hava kirliliği ile ilgili konulara dikkat çekmek, hava kalitesini artırmak için etkili stratejiler geliştirmek ve uygulamak önemlidir. İşte bu nedenle, hava kirliliği konusunda bilimsel makaleler yazmak, bu sorunun çözümüne katkı sağlamak için önemli bir adımdır."
   ]
  },
  {
   "attachments": {},
   "cell_type": "markdown",
   "metadata": {},
   "source": [
    "- World Health Organization. (2018). Ambient air pollution: A global assessment of exposure and burden of disease. **[https://www.who.int/publications/i/item/9789241511353](https://www.who.int/publications/i/item/9789241511353)**\n",
    "- United States Environmental Protection Agency. (2021). Air pollution sources. **[https://www.epa.gov/air-pollution-transport-and-](https://www.epa.gov/air-pollution-transport-and-)** noise/sources-air-pollution"
   ]
  },
  {
   "attachments": {},
   "cell_type": "markdown",
   "metadata": {},
   "source": [
    "Hava kirliliği verilerinde kullanılan birkaç temel değer şunlardır:\n",
    "\n",
    "1. PM10 ve PM2.5: Partikül madde (PM) kirliliği, hava kirliliğinin ana kaynaklarından biridir. PM10, havadaki partiküllerin çapının 10 mikrometreden küçük olmayan bir bölümünü ifade ederken, PM2.5, çapı 2.5 mikrometreden küçük olan partiküllerin oranını ifade eder.\n",
    "2. NO2: Nitrojen dioksit, fosil yakıtların yakılması ve endüstriyel faaliyetler gibi insan kaynaklı etkenlerden kaynaklanan bir hava kirliliği türüdür.\n",
    "3. SO2: Kükürt dioksit, kömür yakma gibi endüstriyel faaliyetlerden kaynaklanan bir hava kirliliği türüdür.\n",
    "4. O3: Ozon, güneş ışığı altında NOx ve VOC'lerin (Uçucu Organik Bileşikler) etkileşimi sonucu oluşan bir hava kirliliği türüdür.\n",
    "5. CO: Karbon monoksit, fosil yakıtların yakılması gibi kaynaklardan salınan bir hava kirliliği türüdür.\n",
    "\n",
    "Bu değerler, hava kalitesi indeksleri gibi farklı metriklerde de kullanılabilir ve hava kirliliğinin etkilerini ölçmek için birlikte değerlendirilir."
   ]
  },
  {
   "attachments": {},
   "cell_type": "markdown",
   "metadata": {},
   "source": [
    "AQI (Air Quality Index) yani Hava Kalitesi İndeksi, hava kirliliğini ölçmek ve raporlamak için kullanılan bir ölçüttür. AQI, çeşitli hava kirleticilerinin konsantrasyonlarını ölçer ve bu kirlilik seviyelerini altı farklı kategoriye ayırır:\n",
    "\n",
    "1. İyi (0-50 AQI)\n",
    "2. Orta (51-100 AQI)\n",
    "3. Hassas Gruplar İçin Kötü (101-150 AQI)\n",
    "4. Kötü (151-200 AQI)\n",
    "5. Çok Kötü (201-300 AQI)\n",
    "6. Tehlikeli (301-500 AQI)\n",
    "\n",
    "AQI, PM2.5, PM10, NO2, SO2, O3 ve CO gibi hava kirleticilerinin konsantrasyonlarını temel alarak hesaplanır ve hava kirliliği seviyesini belirlemek için kullanılır. AQI'nin kullanımı, halk sağlığı açısından önemli bir araçtır ve hava kirliliği seviyelerinin ölçümünü ve takibini kolaylaştırır."
   ]
  },
  {
   "attachments": {},
   "cell_type": "markdown",
   "metadata": {},
   "source": [
    "### Veri Görselleştirme "
   ]
  },
  {
   "cell_type": "code",
   "execution_count": 1,
   "metadata": {},
   "outputs": [],
   "source": [
    "import pandas as pd \n",
    "import os\n",
    "import ast\n",
    "import seaborn as sns\n",
    "import matplotlib.pyplot as plt"
   ]
  },
  {
   "cell_type": "code",
   "execution_count": 8,
   "metadata": {},
   "outputs": [
    {
     "name": "stderr",
     "output_type": "stream",
     "text": [
      "/var/folders/fd/qxb5q9_90ds63d5jvf0jqgsr0000gn/T/ipykernel_34053/2870725907.py:10: DtypeWarning: Columns (14,15,16) have mixed types. Specify dtype option on import or set low_memory=False.\n",
      "  df = pd.read_csv(filename)\n",
      "/var/folders/fd/qxb5q9_90ds63d5jvf0jqgsr0000gn/T/ipykernel_34053/2870725907.py:10: DtypeWarning: Columns (14,15,16) have mixed types. Specify dtype option on import or set low_memory=False.\n",
      "  df = pd.read_csv(filename)\n",
      "/var/folders/fd/qxb5q9_90ds63d5jvf0jqgsr0000gn/T/ipykernel_34053/2870725907.py:10: DtypeWarning: Columns (14,15,16) have mixed types. Specify dtype option on import or set low_memory=False.\n",
      "  df = pd.read_csv(filename)\n",
      "/var/folders/fd/qxb5q9_90ds63d5jvf0jqgsr0000gn/T/ipykernel_34053/2870725907.py:10: DtypeWarning: Columns (14,15,16) have mixed types. Specify dtype option on import or set low_memory=False.\n",
      "  df = pd.read_csv(filename)\n",
      "/var/folders/fd/qxb5q9_90ds63d5jvf0jqgsr0000gn/T/ipykernel_34053/2870725907.py:10: DtypeWarning: Columns (14,15,16) have mixed types. Specify dtype option on import or set low_memory=False.\n",
      "  df = pd.read_csv(filename)\n",
      "/var/folders/fd/qxb5q9_90ds63d5jvf0jqgsr0000gn/T/ipykernel_34053/2870725907.py:10: DtypeWarning: Columns (14,15,16) have mixed types. Specify dtype option on import or set low_memory=False.\n",
      "  df = pd.read_csv(filename)\n",
      "/var/folders/fd/qxb5q9_90ds63d5jvf0jqgsr0000gn/T/ipykernel_34053/2870725907.py:10: DtypeWarning: Columns (14,15,16) have mixed types. Specify dtype option on import or set low_memory=False.\n",
      "  df = pd.read_csv(filename)\n",
      "/var/folders/fd/qxb5q9_90ds63d5jvf0jqgsr0000gn/T/ipykernel_34053/2870725907.py:10: DtypeWarning: Columns (14,15,16) have mixed types. Specify dtype option on import or set low_memory=False.\n",
      "  df = pd.read_csv(filename)\n",
      "/var/folders/fd/qxb5q9_90ds63d5jvf0jqgsr0000gn/T/ipykernel_34053/2870725907.py:10: DtypeWarning: Columns (14,15,16) have mixed types. Specify dtype option on import or set low_memory=False.\n",
      "  df = pd.read_csv(filename)\n",
      "/var/folders/fd/qxb5q9_90ds63d5jvf0jqgsr0000gn/T/ipykernel_34053/2870725907.py:10: DtypeWarning: Columns (14,15,16) have mixed types. Specify dtype option on import or set low_memory=False.\n",
      "  df = pd.read_csv(filename)\n",
      "/var/folders/fd/qxb5q9_90ds63d5jvf0jqgsr0000gn/T/ipykernel_34053/2870725907.py:10: DtypeWarning: Columns (14,15,16) have mixed types. Specify dtype option on import or set low_memory=False.\n",
      "  df = pd.read_csv(filename)\n",
      "/var/folders/fd/qxb5q9_90ds63d5jvf0jqgsr0000gn/T/ipykernel_34053/2870725907.py:10: DtypeWarning: Columns (14,15,16) have mixed types. Specify dtype option on import or set low_memory=False.\n",
      "  df = pd.read_csv(filename)\n",
      "/var/folders/fd/qxb5q9_90ds63d5jvf0jqgsr0000gn/T/ipykernel_34053/2870725907.py:10: DtypeWarning: Columns (14,15,16) have mixed types. Specify dtype option on import or set low_memory=False.\n",
      "  df = pd.read_csv(filename)\n",
      "/var/folders/fd/qxb5q9_90ds63d5jvf0jqgsr0000gn/T/ipykernel_34053/2870725907.py:10: DtypeWarning: Columns (14,15,16) have mixed types. Specify dtype option on import or set low_memory=False.\n",
      "  df = pd.read_csv(filename)\n",
      "/var/folders/fd/qxb5q9_90ds63d5jvf0jqgsr0000gn/T/ipykernel_34053/2870725907.py:10: DtypeWarning: Columns (14,15,16) have mixed types. Specify dtype option on import or set low_memory=False.\n",
      "  df = pd.read_csv(filename)\n",
      "/var/folders/fd/qxb5q9_90ds63d5jvf0jqgsr0000gn/T/ipykernel_34053/2870725907.py:10: DtypeWarning: Columns (14,15,16) have mixed types. Specify dtype option on import or set low_memory=False.\n",
      "  df = pd.read_csv(filename)\n",
      "/var/folders/fd/qxb5q9_90ds63d5jvf0jqgsr0000gn/T/ipykernel_34053/2870725907.py:10: DtypeWarning: Columns (14,15,16) have mixed types. Specify dtype option on import or set low_memory=False.\n",
      "  df = pd.read_csv(filename)\n",
      "/var/folders/fd/qxb5q9_90ds63d5jvf0jqgsr0000gn/T/ipykernel_34053/2870725907.py:10: DtypeWarning: Columns (14,15,16) have mixed types. Specify dtype option on import or set low_memory=False.\n",
      "  df = pd.read_csv(filename)\n"
     ]
    }
   ],
   "source": [
    "\n",
    "# \"dataset_combined\" klasörüne git\n",
    "folder_path = \"/Users/eyupburakatahanli/Desktop/tubitak_2209_projem/dataset_combined/dataset_combined\"\n",
    "os.chdir(folder_path)\n",
    "dfs = {}\n",
    "# tüm CSV dosyalarını al ve oku\n",
    "for filename in os.listdir():\n",
    "    if filename.endswith(\".csv\"):\n",
    "        # dosya adından DataFrame adını ve dosya adını çıkart\n",
    "        df_name = filename.split(\".\")[0].replace(\" \", \"\") \n",
    "        df = pd.read_csv(filename)\n",
    "        exec(df_name + \" = pd.DataFrame(df)\") # DataFrame'i kaydet\n",
    "        dfs[df_name] = df"
   ]
  },
  {
   "cell_type": "code",
   "execution_count": 9,
   "metadata": {},
   "outputs": [],
   "source": [
    "#eksik değeri toplam değerin yarısından az olan df ler. \n",
    "data2 = []\n",
    "for df_name, df in dfs.items():\n",
    "    if df[\"PM10\"].isnull().sum() < 57054:\n",
    "        data2.append(df_name)"
   ]
  },
  {
   "cell_type": "code",
   "execution_count": 19,
   "metadata": {},
   "outputs": [],
   "source": [
    "for district in data2:\n",
    "    #veriyi daha iyi anlamak için gerekli zaman değişkenleri eklemek \n",
    "    dfs[district]['ReadTime'] = pd.to_datetime(dfs[district]['ReadTime'], format='%Y-%m-%dT%H:%M:%S')\n",
    "    dfs[district][\"Year\"] = dfs[district][\"ReadTime\"].dt.year\n",
    "    dfs[district][\"Day\"] = dfs[district][\"ReadTime\"].dt.day\n",
    "    dfs[district][\"Month \"] = dfs[district][\"ReadTime\"].dt.month\n"
   ]
  },
  {
   "cell_type": "code",
   "execution_count": 21,
   "metadata": {},
   "outputs": [
    {
     "data": {
      "text/plain": [
       "19"
      ]
     },
     "execution_count": 21,
     "metadata": {},
     "output_type": "execute_result"
    }
   ],
   "source": [
    "len(data2)"
   ]
  },
  {
   "cell_type": "code",
   "execution_count": 22,
   "metadata": {},
   "outputs": [
    {
     "data": {
      "text/plain": [
       "<Axes: xlabel='AQIINDEX_AQI', ylabel='Count'>"
      ]
     },
     "execution_count": 22,
     "metadata": {},
     "output_type": "execute_result"
    },
    {
     "data": {
      "image/png": "[encoded data removed]",
      "text/plain": [
       "<Figure size 640x480 with 1 Axes>"
      ]
     },
     "metadata": {},
     "output_type": "display_data"
    }
   ],
   "source": [
    "sns.histplot(data=dfs[district], x=\"AQIINDEX_AQI\", kde=True)"
   ]
  },
  {
   "cell_type": "code",
   "execution_count": null,
   "metadata": {},
   "outputs": [],
   "source": []
  },
  {
   "cell_type": "code",
   "execution_count": 24,
   "metadata": {},
   "outputs": [
    {
     "data": {
      "text/plain": [
       "<Axes: xlabel='AQIINDEX_AQI', ylabel='Count'>"
      ]
     },
     "execution_count": 24,
     "metadata": {},
     "output_type": "execute_result"
    },
    {
     "data": {
      "image/png": "[encoded data removed]",
      "text/plain": [
       "<Figure size 640x480 with 1 Axes>"
      ]
     },
     "metadata": {},
     "output_type": "display_data"
    }
   ],
   "source": [
    "sns.histplot(data=sample, x=\"AQIINDEX_AQI\", kde=True)"
   ]
  },
  {
   "cell_type": "code",
   "execution_count": 65,
   "metadata": {},
   "outputs": [
    {
     "name": "stderr",
     "output_type": "stream",
     "text": [
      "/var/folders/fd/qxb5q9_90ds63d5jvf0jqgsr0000gn/T/ipykernel_52273/1602369636.py:1: SettingWithCopyWarning: \n",
      "A value is trying to be set on a copy of a slice from a DataFrame.\n",
      "Try using .loc[row_indexer,col_indexer] = value instead\n",
      "\n",
      "See the caveats in the documentation: https://pandas.pydata.org/pandas-docs/stable/user_guide/indexing.html#returning-a-view-versus-a-copy\n",
      "  deneme['ReadTime'] = pd.to_datetime(deneme['ReadTime'], format='%Y-%m-%dT%H:%M:%S')\n"
     ]
    }
   ],
   "source": [
    "deneme['ReadTime'] = pd.to_datetime(deneme['ReadTime'], format='%Y-%m-%dT%H:%M:%S')"
   ]
  },
  {
   "cell_type": "code",
   "execution_count": 67,
   "metadata": {},
   "outputs": [],
   "source": [
    "deneme2 = deneme.set_index(\"ReadTime\")"
   ]
  },
  {
   "cell_type": "code",
   "execution_count": 68,
   "metadata": {},
   "outputs": [],
   "source": [
    "deneme3 = deneme2.drop([\"Unnamed: 6\",\"Unnamed: 16\"],axis=1).head()"
   ]
  },
  {
   "cell_type": "code",
   "execution_count": null,
   "metadata": {},
   "outputs": [],
   "source": []
  },
  {
   "cell_type": "code",
   "execution_count": null,
   "metadata": {},
   "outputs": [],
   "source": []
  },
  {
   "cell_type": "code",
   "execution_count": null,
   "metadata": {},
   "outputs": [],
   "source": []
  },
  {
   "cell_type": "code",
   "execution_count": null,
   "metadata": {},
   "outputs": [],
   "source": []
  },
  {
   "cell_type": "code",
   "execution_count": null,
   "metadata": {},
   "outputs": [],
   "source": []
  },
  {
   "cell_type": "code",
   "execution_count": 82,
   "metadata": {},
   "outputs": [
    {
     "data": {
      "text/html": [
       "<div>\n",
       "<style scoped>\n",
       "    .dataframe tbody tr th:only-of-type {\n",
       "        vertical-align: middle;\n",
       "    }\n",
       "\n",
       "    .dataframe tbody tr th {\n",
       "        vertical-align: top;\n",
       "    }\n",
       "\n",
       "    .dataframe thead th {\n",
       "        text-align: right;\n",
       "    }\n",
       "</style>\n",
       "<table border=\"1\" class=\"dataframe\">\n",
       "  <thead>\n",
       "    <tr style=\"text-align: right;\">\n",
       "      <th></th>\n",
       "      <th>PM10</th>\n",
       "      <th>SO2</th>\n",
       "      <th>O3</th>\n",
       "      <th>NO2</th>\n",
       "      <th>CO</th>\n",
       "      <th>PM10_AQI</th>\n",
       "      <th>SO2_AQI</th>\n",
       "      <th>O3_AQI</th>\n",
       "      <th>NO2_AQI</th>\n",
       "      <th>CO_AQI</th>\n",
       "      <th>AQIINDEX_AQI</th>\n",
       "      <th>CONTAMINANTPARAMETER_AQI</th>\n",
       "      <th>STATE_AQI</th>\n",
       "      <th>COLOR_AQI</th>\n",
       "    </tr>\n",
       "    <tr>\n",
       "      <th>ReadTime</th>\n",
       "      <th></th>\n",
       "      <th></th>\n",
       "      <th></th>\n",
       "      <th></th>\n",
       "      <th></th>\n",
       "      <th></th>\n",
       "      <th></th>\n",
       "      <th></th>\n",
       "      <th></th>\n",
       "      <th></th>\n",
       "      <th></th>\n",
       "      <th></th>\n",
       "      <th></th>\n",
       "      <th></th>\n",
       "    </tr>\n",
       "  </thead>\n",
       "  <tbody>\n",
       "    <tr>\n",
       "      <th>2010-01-01 00:00:00</th>\n",
       "      <td>20.9</td>\n",
       "      <td>8.1</td>\n",
       "      <td>0.0</td>\n",
       "      <td>88.7</td>\n",
       "      <td>759.0</td>\n",
       "      <td>30.0</td>\n",
       "      <td>4.0</td>\n",
       "      <td>0.0</td>\n",
       "      <td>44.0</td>\n",
       "      <td>10.0</td>\n",
       "      <td>44.0</td>\n",
       "      <td>NO2</td>\n",
       "      <td>Hava kalitesi memnun edici ve hava kirliliği a...</td>\n",
       "      <td>#13a261</td>\n",
       "    </tr>\n",
       "    <tr>\n",
       "      <th>2010-01-01 01:00:00</th>\n",
       "      <td>25.8</td>\n",
       "      <td>9.1</td>\n",
       "      <td>0.0</td>\n",
       "      <td>72.9</td>\n",
       "      <td>590.0</td>\n",
       "      <td>30.0</td>\n",
       "      <td>5.0</td>\n",
       "      <td>0.0</td>\n",
       "      <td>36.0</td>\n",
       "      <td>9.0</td>\n",
       "      <td>36.0</td>\n",
       "      <td>NO2</td>\n",
       "      <td>Hava kalitesi memnun edici ve hava kirliliği a...</td>\n",
       "      <td>#13a261</td>\n",
       "    </tr>\n",
       "    <tr>\n",
       "      <th>2010-01-01 02:00:00</th>\n",
       "      <td>22.2</td>\n",
       "      <td>8.9</td>\n",
       "      <td>0.0</td>\n",
       "      <td>80.2</td>\n",
       "      <td>653.6</td>\n",
       "      <td>29.0</td>\n",
       "      <td>5.0</td>\n",
       "      <td>0.0</td>\n",
       "      <td>39.0</td>\n",
       "      <td>8.0</td>\n",
       "      <td>39.0</td>\n",
       "      <td>NO2</td>\n",
       "      <td>Hava kalitesi memnun edici ve hava kirliliği a...</td>\n",
       "      <td>#13a261</td>\n",
       "    </tr>\n",
       "    <tr>\n",
       "      <th>2010-01-01 03:00:00</th>\n",
       "      <td>22.6</td>\n",
       "      <td>7.9</td>\n",
       "      <td>0.0</td>\n",
       "      <td>90.8</td>\n",
       "      <td>811.0</td>\n",
       "      <td>28.0</td>\n",
       "      <td>4.0</td>\n",
       "      <td>0.0</td>\n",
       "      <td>44.0</td>\n",
       "      <td>8.0</td>\n",
       "      <td>44.0</td>\n",
       "      <td>NO2</td>\n",
       "      <td>Hava kalitesi memnun edici ve hava kirliliği a...</td>\n",
       "      <td>#13a261</td>\n",
       "    </tr>\n",
       "    <tr>\n",
       "      <th>2010-01-01 04:00:00</th>\n",
       "      <td>31.7</td>\n",
       "      <td>9.5</td>\n",
       "      <td>0.0</td>\n",
       "      <td>88.7</td>\n",
       "      <td>784.4</td>\n",
       "      <td>29.0</td>\n",
       "      <td>5.0</td>\n",
       "      <td>0.0</td>\n",
       "      <td>44.0</td>\n",
       "      <td>7.0</td>\n",
       "      <td>44.0</td>\n",
       "      <td>NO2</td>\n",
       "      <td>Hava kalitesi memnun edici ve hava kirliliği a...</td>\n",
       "      <td>#13a261</td>\n",
       "    </tr>\n",
       "  </tbody>\n",
       "</table>\n",
       "</div>"
      ],
      "text/plain": [
       "                     PM10  SO2   O3   NO2     CO  PM10_AQI  SO2_AQI  O3_AQI   \n",
       "ReadTime                                                                      \n",
       "2010-01-01 00:00:00  20.9  8.1  0.0  88.7  759.0      30.0      4.0     0.0  \\\n",
       "2010-01-01 01:00:00  25.8  9.1  0.0  72.9  590.0      30.0      5.0     0.0   \n",
       "2010-01-01 02:00:00  22.2  8.9  0.0  80.2  653.6      29.0      5.0     0.0   \n",
       "2010-01-01 03:00:00  22.6  7.9  0.0  90.8  811.0      28.0      4.0     0.0   \n",
       "2010-01-01 04:00:00  31.7  9.5  0.0  88.7  784.4      29.0      5.0     0.0   \n",
       "\n",
       "                     NO2_AQI  CO_AQI  AQIINDEX_AQI CONTAMINANTPARAMETER_AQI   \n",
       "ReadTime                                                                      \n",
       "2010-01-01 00:00:00     44.0    10.0          44.0                      NO2  \\\n",
       "2010-01-01 01:00:00     36.0     9.0          36.0                      NO2   \n",
       "2010-01-01 02:00:00     39.0     8.0          39.0                      NO2   \n",
       "2010-01-01 03:00:00     44.0     8.0          44.0                      NO2   \n",
       "2010-01-01 04:00:00     44.0     7.0          44.0                      NO2   \n",
       "\n",
       "                                                             STATE_AQI   \n",
       "ReadTime                                                                 \n",
       "2010-01-01 00:00:00  Hava kalitesi memnun edici ve hava kirliliği a...  \\\n",
       "2010-01-01 01:00:00  Hava kalitesi memnun edici ve hava kirliliği a...   \n",
       "2010-01-01 02:00:00  Hava kalitesi memnun edici ve hava kirliliği a...   \n",
       "2010-01-01 03:00:00  Hava kalitesi memnun edici ve hava kirliliği a...   \n",
       "2010-01-01 04:00:00  Hava kalitesi memnun edici ve hava kirliliği a...   \n",
       "\n",
       "                    COLOR_AQI  \n",
       "ReadTime                       \n",
       "2010-01-01 00:00:00   #13a261  \n",
       "2010-01-01 01:00:00   #13a261  \n",
       "2010-01-01 02:00:00   #13a261  \n",
       "2010-01-01 03:00:00   #13a261  \n",
       "2010-01-01 04:00:00   #13a261  "
      ]
     },
     "execution_count": 82,
     "metadata": {},
     "output_type": "execute_result"
    }
   ],
   "source": [
    "df_monthly = deneme.resample('M').mean()\n",
    "\n",
    "# Grafik için boyut belirleyin\n",
    "plt.figure(figsize=(10, 6))\n",
    "\n",
    "# Grafikleri çizin\n",
    "plt.plot(df_monthly.index, df_monthly['PM10'], label='PM10')\n",
    "plt.plot(df_monthly.index, df_monthly['SO2'], label='SO2')\n",
    "plt.plot(df_monthly.index, df_monthly['NO2'], label='NO2')\n",
    "\n",
    "# Eksenleri ve başlıkları belirleyin\n",
    "plt.xlabel('Tarih')\n",
    "plt.ylabel('Hava Kirliliği')\n",
    "plt.title('Aylık Ortalama Hava Kirliliği Değişimi')\n",
    "plt.legend()\n",
    "\n",
    "# Grafikleri gösterin\n",
    "plt.show()"
   ]
  },
  {
   "cell_type": "code",
   "execution_count": 79,
   "metadata": {},
   "outputs": [
    {
     "data": {
      "text/html": [
       "<div>\n",
       "<style scoped>\n",
       "    .dataframe tbody tr th:only-of-type {\n",
       "        vertical-align: middle;\n",
       "    }\n",
       "\n",
       "    .dataframe tbody tr th {\n",
       "        vertical-align: top;\n",
       "    }\n",
       "\n",
       "    .dataframe thead th {\n",
       "        text-align: right;\n",
       "    }\n",
       "</style>\n",
       "<table border=\"1\" class=\"dataframe\">\n",
       "  <thead>\n",
       "    <tr style=\"text-align: right;\">\n",
       "      <th></th>\n",
       "      <th>PM10</th>\n",
       "      <th>SO2</th>\n",
       "      <th>O3</th>\n",
       "    </tr>\n",
       "    <tr>\n",
       "      <th>ReadTime</th>\n",
       "      <th></th>\n",
       "      <th></th>\n",
       "      <th></th>\n",
       "    </tr>\n",
       "  </thead>\n",
       "  <tbody>\n",
       "    <tr>\n",
       "      <th>2010-01-31</th>\n",
       "      <td>24.64</td>\n",
       "      <td>8.7</td>\n",
       "      <td>0.0</td>\n",
       "    </tr>\n",
       "  </tbody>\n",
       "</table>\n",
       "</div>"
      ],
      "text/plain": [
       "             PM10  SO2   O3\n",
       "ReadTime                   \n",
       "2010-01-31  24.64  8.7  0.0"
      ]
     },
     "execution_count": 79,
     "metadata": {},
     "output_type": "execute_result"
    }
   ],
   "source": [
    "df_resampled"
   ]
  },
  {
   "cell_type": "code",
   "execution_count": null,
   "metadata": {},
   "outputs": [],
   "source": []
  }
 ],
 "metadata": {
  "kernelspec": {
   "display_name": "Python 3",
   "language": "python",
   "name": "python3"
  },
  "language_info": {
   "codemirror_mode": {
    "name": "ipython",
    "version": 3
   },
   "file_extension": ".py",
   "mimetype": "text/x-python",
   "name": "python",
   "nbconvert_exporter": "python",
   "pygments_lexer": "ipython3",
   "version": "3.10.6"
  },
  "orig_nbformat": 4
 },
 "nbformat": 4,
 "nbformat_minor": 2
}
