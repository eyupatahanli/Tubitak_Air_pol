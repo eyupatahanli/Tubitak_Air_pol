{
 "cells": [
  {
   "attachments": {},
   "cell_type": "markdown",
   "metadata": {},
   "source": [
    "# Hava Kirliliği Üzerine Bilimsel bir Çalışma"
   ]
  },
  {
   "attachments": {},
   "cell_type": "markdown",
   "metadata": {},
   "source": [
    "## Problem tanımı "
   ]
  },
  {
   "attachments": {},
   "cell_type": "markdown",
   "metadata": {},
   "source": [
    "Günümüzde, hava kirliliği, insan sağlığı ve çevre üzerindeki olumsuz etkileri nedeniyle dünya genelinde ciddi bir sorun haline gelmiştir. Hava kirliliği, insanlar tarafından salınan çeşitli kirleticiler ve doğal kaynaklardan kaynaklanan kirleticilerin atmosfere salınması sonucu oluşur. Kirleticiler, atmosferdeki hava kalitesini etkileyerek, insan sağlığına zarar verebilir, bitki örtüsüne zarar vererek, su kaynaklarının kirlenmesine ve ekosistemlere zarar verebilir.\n",
    "\n",
    "Dünya Sağlık Örgütü (WHO), hava kirliliğinin her yıl dünya genelinde yaklaşık 7 milyon insanın ölümüne neden olduğunu tahmin ediyor. Ayrıca, hava kirliliği, çocuklar, yaşlılar ve kronik solunum yolu hastalıkları olanlar gibi savunmasız gruplar için özellikle tehlikelidir. Kirleticiler arasında en yaygın olanları, trafik, endüstriyel aktiviteler, enerji üretimi ve evlerde kullanılan yakıtlardan kaynaklanmaktadır.\n",
    "\n",
    "Hava kirliliği ile mücadele, insan sağlığı ve çevre için kritik öneme sahiptir. Bu nedenle, hava kirliliği ile ilgili konulara dikkat çekmek, hava kalitesini artırmak için etkili stratejiler geliştirmek ve uygulamak önemlidir. İşte bu nedenle, hava kirliliği konusunda bilimsel makaleler yazmak, bu sorunun çözümüne katkı sağlamak için önemli bir adımdır."
   ]
  },
  {
   "attachments": {},
   "cell_type": "markdown",
   "metadata": {},
   "source": [
    "- World Health Organization. (2018). Ambient air pollution: A global assessment of exposure and burden of disease. **[https://www.who.int/publications/i/item/9789241511353](https://www.who.int/publications/i/item/9789241511353)**\n",
    "- United States Environmental Protection Agency. (2021). Air pollution sources. **[https://www.epa.gov/air-pollution-transport-and-](https://www.epa.gov/air-pollution-transport-and-)** noise/sources-air-pollution"
   ]
  },
  {
   "attachments": {},
   "cell_type": "markdown",
   "metadata": {},
   "source": [
    "Hava kirliliği verilerinde kullanılan birkaç temel değer şunlardır:\n",
    "\n",
    "1. PM10 ve PM2.5: Partikül madde (PM) kirliliği, hava kirliliğinin ana kaynaklarından biridir. PM10, havadaki partiküllerin çapının 10 mikrometreden küçük olmayan bir bölümünü ifade ederken, PM2.5, çapı 2.5 mikrometreden küçük olan partiküllerin oranını ifade eder.\n",
    "2. NO2: Nitrojen dioksit, fosil yakıtların yakılması ve endüstriyel faaliyetler gibi insan kaynaklı etkenlerden kaynaklanan bir hava kirliliği türüdür.\n",
    "3. SO2: Kükürt dioksit, kömür yakma gibi endüstriyel faaliyetlerden kaynaklanan bir hava kirliliği türüdür.\n",
    "4. O3: Ozon, güneş ışığı altında NOx ve VOC'lerin (Uçucu Organik Bileşikler) etkileşimi sonucu oluşan bir hava kirliliği türüdür.\n",
    "5. CO: Karbon monoksit, fosil yakıtların yakılması gibi kaynaklardan salınan bir hava kirliliği türüdür.\n",
    "\n",
    "Bu değerler, hava kalitesi indeksleri gibi farklı metriklerde de kullanılabilir ve hava kirliliğinin etkilerini ölçmek için birlikte değerlendirilir."
   ]
  },
  {
   "attachments": {},
   "cell_type": "markdown",
   "metadata": {},
   "source": [
    "AQI (Air Quality Index) yani Hava Kalitesi İndeksi, hava kirliliğini ölçmek ve raporlamak için kullanılan bir ölçüttür. AQI, çeşitli hava kirleticilerinin konsantrasyonlarını ölçer ve bu kirlilik seviyelerini altı farklı kategoriye ayırır:\n",
    "\n",
    "1. İyi (0-50 AQI)\n",
    "2. Orta (51-100 AQI)\n",
    "3. Hassas Gruplar İçin Kötü (101-150 AQI)\n",
    "4. Kötü (151-200 AQI)\n",
    "5. Çok Kötü (201-300 AQI)\n",
    "6. Tehlikeli (301-500 AQI)\n",
    "\n",
    "AQI, PM2.5, PM10, NO2, SO2, O3 ve CO gibi hava kirleticilerinin konsantrasyonlarını temel alarak hesaplanır ve hava kirliliği seviyesini belirlemek için kullanılır. AQI'nin kullanımı, halk sağlığı açısından önemli bir araçtır ve hava kirliliği seviyelerinin ölçümünü ve takibini kolaylaştırır."
   ]
  },
  {
   "attachments": {},
   "cell_type": "markdown",
   "metadata": {},
   "source": [
    "### Veri Görselleştirme "
   ]
  },
  {
   "cell_type": "code",
   "execution_count": 1,
   "metadata": {
    "ExecuteTime": {
     "end_time": "2023-06-01T12:06:43.369278Z",
     "start_time": "2023-06-01T12:06:43.366945Z"
    }
   },
   "outputs": [],
   "source": [
    "import pandas as pd \n",
    "import os\n",
    "import ast\n",
    "import seaborn as sns\n",
    "import matplotlib.pyplot as plt"
   ]
  },
  {
   "cell_type": "code",
   "execution_count": 2,
   "metadata": {
    "ExecuteTime": {
     "end_time": "2023-06-01T12:06:53.782084Z",
     "start_time": "2023-06-01T12:06:44.200795Z"
    }
   },
   "outputs": [
    {
     "name": "stderr",
     "output_type": "stream",
     "text": [
      "/var/folders/fd/qxb5q9_90ds63d5jvf0jqgsr0000gn/T/ipykernel_94295/2248276364.py:10: DtypeWarning: Columns (14,15,16) have mixed types. Specify dtype option on import or set low_memory=False.\n",
      "  df = pd.read_csv(filename)\n",
      "/var/folders/fd/qxb5q9_90ds63d5jvf0jqgsr0000gn/T/ipykernel_94295/2248276364.py:10: DtypeWarning: Columns (14,15,16) have mixed types. Specify dtype option on import or set low_memory=False.\n",
      "  df = pd.read_csv(filename)\n",
      "/var/folders/fd/qxb5q9_90ds63d5jvf0jqgsr0000gn/T/ipykernel_94295/2248276364.py:10: DtypeWarning: Columns (14,15,16) have mixed types. Specify dtype option on import or set low_memory=False.\n",
      "  df = pd.read_csv(filename)\n",
      "/var/folders/fd/qxb5q9_90ds63d5jvf0jqgsr0000gn/T/ipykernel_94295/2248276364.py:10: DtypeWarning: Columns (14,15,16) have mixed types. Specify dtype option on import or set low_memory=False.\n",
      "  df = pd.read_csv(filename)\n",
      "/var/folders/fd/qxb5q9_90ds63d5jvf0jqgsr0000gn/T/ipykernel_94295/2248276364.py:10: DtypeWarning: Columns (14,15,16) have mixed types. Specify dtype option on import or set low_memory=False.\n",
      "  df = pd.read_csv(filename)\n",
      "/var/folders/fd/qxb5q9_90ds63d5jvf0jqgsr0000gn/T/ipykernel_94295/2248276364.py:10: DtypeWarning: Columns (14,15,16) have mixed types. Specify dtype option on import or set low_memory=False.\n",
      "  df = pd.read_csv(filename)\n",
      "/var/folders/fd/qxb5q9_90ds63d5jvf0jqgsr0000gn/T/ipykernel_94295/2248276364.py:10: DtypeWarning: Columns (14,15,16) have mixed types. Specify dtype option on import or set low_memory=False.\n",
      "  df = pd.read_csv(filename)\n",
      "/var/folders/fd/qxb5q9_90ds63d5jvf0jqgsr0000gn/T/ipykernel_94295/2248276364.py:10: DtypeWarning: Columns (14,15,16) have mixed types. Specify dtype option on import or set low_memory=False.\n",
      "  df = pd.read_csv(filename)\n",
      "/var/folders/fd/qxb5q9_90ds63d5jvf0jqgsr0000gn/T/ipykernel_94295/2248276364.py:10: DtypeWarning: Columns (14,15,16) have mixed types. Specify dtype option on import or set low_memory=False.\n",
      "  df = pd.read_csv(filename)\n",
      "/var/folders/fd/qxb5q9_90ds63d5jvf0jqgsr0000gn/T/ipykernel_94295/2248276364.py:10: DtypeWarning: Columns (14,15,16) have mixed types. Specify dtype option on import or set low_memory=False.\n",
      "  df = pd.read_csv(filename)\n",
      "/var/folders/fd/qxb5q9_90ds63d5jvf0jqgsr0000gn/T/ipykernel_94295/2248276364.py:10: DtypeWarning: Columns (14,15,16) have mixed types. Specify dtype option on import or set low_memory=False.\n",
      "  df = pd.read_csv(filename)\n",
      "/var/folders/fd/qxb5q9_90ds63d5jvf0jqgsr0000gn/T/ipykernel_94295/2248276364.py:10: DtypeWarning: Columns (14,15,16) have mixed types. Specify dtype option on import or set low_memory=False.\n",
      "  df = pd.read_csv(filename)\n",
      "/var/folders/fd/qxb5q9_90ds63d5jvf0jqgsr0000gn/T/ipykernel_94295/2248276364.py:10: DtypeWarning: Columns (14,15,16) have mixed types. Specify dtype option on import or set low_memory=False.\n",
      "  df = pd.read_csv(filename)\n",
      "/var/folders/fd/qxb5q9_90ds63d5jvf0jqgsr0000gn/T/ipykernel_94295/2248276364.py:10: DtypeWarning: Columns (14,15,16) have mixed types. Specify dtype option on import or set low_memory=False.\n",
      "  df = pd.read_csv(filename)\n",
      "/var/folders/fd/qxb5q9_90ds63d5jvf0jqgsr0000gn/T/ipykernel_94295/2248276364.py:10: DtypeWarning: Columns (14,15,16) have mixed types. Specify dtype option on import or set low_memory=False.\n",
      "  df = pd.read_csv(filename)\n",
      "/var/folders/fd/qxb5q9_90ds63d5jvf0jqgsr0000gn/T/ipykernel_94295/2248276364.py:10: DtypeWarning: Columns (14,15,16) have mixed types. Specify dtype option on import or set low_memory=False.\n",
      "  df = pd.read_csv(filename)\n",
      "/var/folders/fd/qxb5q9_90ds63d5jvf0jqgsr0000gn/T/ipykernel_94295/2248276364.py:10: DtypeWarning: Columns (14,15,16) have mixed types. Specify dtype option on import or set low_memory=False.\n",
      "  df = pd.read_csv(filename)\n"
     ]
    }
   ],
   "source": [
    "\n",
    "# \"dataset_combined\" klasörüne git\n",
    "folder_path = \"/Users/eyupburakatahanli/Desktop/Tubitak_Air_pol/dataset_combined\"\n",
    "os.chdir(folder_path)\n",
    "dfs = {}\n",
    "# tüm CSV dosyalarını al ve oku\n",
    "for filename in os.listdir():\n",
    "    if filename.endswith(\".csv\"):\n",
    "        # dosya adından DataFrame adını ve dosya adını çıkart\n",
    "        df_name = filename.split(\".\")[0].replace(\" \", \"\") \n",
    "        df = pd.read_csv(filename)\n",
    "        exec(df_name + \" = pd.DataFrame(df)\") # DataFrame'i kaydet\n",
    "        dfs[df_name] = df"
   ]
  },
  {
   "cell_type": "code",
   "execution_count": 4,
   "metadata": {
    "ExecuteTime": {
     "end_time": "2023-06-01T12:08:18.408498Z",
     "start_time": "2023-06-01T12:08:16.939001Z"
    }
   },
   "outputs": [],
   "source": [
    " #ReadTime sütunu  datetime a dönüştürme ve ay yıl ve gün bilgisini df e ekleme\n",
    "for district, df in dfs.items():\n",
    "    dfs[district]['ReadTime'] = pd.to_datetime(dfs[district]['ReadTime'], format='%Y-%m-%dT%H:%M:%S')\n",
    "    dfs[district][\"Year\"] = dfs[district][\"ReadTime\"].dt.year\n",
    "    dfs[district][\"Day\"] = dfs[district][\"ReadTime\"].dt.day\n",
    "    dfs[district][\"Month \"] = dfs[district][\"ReadTime\"].dt.month\n",
    "    #sonraki çalışmalarda 2023 yılına ait bir değişken olduğunu farkettik bunu siliyoruz\n",
    "    dfs[district].drop(dfs[district][dfs[district]['Year'] == 2023].index,inplace=True)\n",
    "    #aqı endex değeri nan olan tüm değişkenleri siliyoruz\n",
    "    dfs[district] = dfs[district].dropna(subset=['AQIINDEX_AQI'])"
   ]
  }
 ],
 "metadata": {
  "kernelspec": {
   "display_name": "Python 3",
   "language": "python",
   "name": "python3"
  },
  "language_info": {
   "codemirror_mode": {
    "name": "ipython",
    "version": 3
   },
   "file_extension": ".py",
   "mimetype": "text/x-python",
   "name": "python",
   "nbconvert_exporter": "python",
   "pygments_lexer": "ipython3",
   "version": "3.10.6"
  },
  "orig_nbformat": 4
 },
 "nbformat": 4,
 "nbformat_minor": 2
}
